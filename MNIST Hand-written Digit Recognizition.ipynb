{
 "cells": [
  {
   "cell_type": "markdown",
   "id": "68f4cbff",
   "metadata": {},
   "source": [
    "## Fetching Dataset"
   ]
  },
  {
   "cell_type": "code",
   "execution_count": 1,
   "id": "f3bd4a7c",
   "metadata": {},
   "outputs": [],
   "source": [
    "from sklearn.datasets import fetch_openml"
   ]
  },
  {
   "cell_type": "code",
   "execution_count": 2,
   "id": "0e9258a6",
   "metadata": {},
   "outputs": [],
   "source": [
    "from scipy.io import loadmat\n",
    "mnist = loadmat(\"mnist-original.mat\")\n",
    "x = mnist['data']\n",
    "y = mnist[\"label\"][0]"
   ]
  },
  {
   "cell_type": "code",
   "execution_count": 3,
   "id": "cd040550",
   "metadata": {},
   "outputs": [
    {
     "data": {
      "text/plain": [
       "(70000, 784)"
      ]
     },
     "execution_count": 3,
     "metadata": {},
     "output_type": "execute_result"
    }
   ],
   "source": [
    "import numpy as np\n",
    "x = np.transpose(x)\n",
    "x.shape    "
   ]
  },
  {
   "cell_type": "code",
   "execution_count": 4,
   "id": "fb5bcf55",
   "metadata": {},
   "outputs": [
    {
     "data": {
      "text/plain": [
       "(70000,)"
      ]
     },
     "execution_count": 4,
     "metadata": {},
     "output_type": "execute_result"
    }
   ],
   "source": [
    "y.shape"
   ]
  },
  {
   "cell_type": "code",
   "execution_count": 5,
   "id": "3eecb6e6",
   "metadata": {},
   "outputs": [],
   "source": [
    "%matplotlib inline"
   ]
  },
  {
   "cell_type": "code",
   "execution_count": 6,
   "id": "2cd8cf18",
   "metadata": {},
   "outputs": [],
   "source": [
    "import matplotlib\n",
    "import matplotlib.pyplot as plt"
   ]
  },
  {
   "cell_type": "code",
   "execution_count": 7,
   "id": "9a84972d",
   "metadata": {},
   "outputs": [],
   "source": [
    "some_digit = x[15000]\n",
    "some_digit_image = some_digit.reshape(28,28) # Let's resahpe it to plot it"
   ]
  },
  {
   "cell_type": "code",
   "execution_count": 8,
   "id": "8dac4681",
   "metadata": {},
   "outputs": [
    {
     "data": {
      "text/plain": [
       "(-0.5, 27.5, 27.5, -0.5)"
      ]
     },
     "execution_count": 8,
     "metadata": {},
     "output_type": "execute_result"
    },
    {
     "data": {
      "image/png": "[encoded data removed]",
      "text/plain": [
       "<Figure size 432x288 with 1 Axes>"
      ]
     },
     "metadata": {
      "needs_background": "light"
     },
     "output_type": "display_data"
    }
   ],
   "source": [
    "plt.imshow(some_digit_image, cmap=matplotlib.cm.binary, interpolation = \"nearest\")\n",
    "plt.axis(\"off\")"
   ]
  },
  {
   "cell_type": "code",
   "execution_count": 9,
   "id": "3e984c3c",
   "metadata": {},
   "outputs": [
    {
     "data": {
      "text/plain": [
       "2.0"
      ]
     },
     "execution_count": 9,
     "metadata": {},
     "output_type": "execute_result"
    }
   ],
   "source": [
    "y[ 15000]"
   ]
  },
  {
   "cell_type": "markdown",
   "id": "2db84ca0",
   "metadata": {},
   "source": [
    "## Train and Test set Splitting"
   ]
  },
  {
   "cell_type": "code",
   "execution_count": 10,
   "id": "bca5c74b",
   "metadata": {},
   "outputs": [],
   "source": [
    "x_train, x_test = x[:60000], x[60000:]"
   ]
  },
  {
   "cell_type": "code",
   "execution_count": 11,
   "id": "df5f32c1",
   "metadata": {},
   "outputs": [],
   "source": [
    "y_train, y_test = y[:60000], y[60000:]"
   ]
  },
  {
   "cell_type": "code",
   "execution_count": 12,
   "id": "a825ac18",
   "metadata": {},
   "outputs": [],
   "source": [
    "# Random shuffling of data to get varied datapoints\n",
    "import numpy as np\n",
    "shuffle_index = np.random.permutation(60000)\n",
    "x_train, y_train = x_train[shuffle_index], y_train[shuffle_index]"
   ]
  },
  {
   "cell_type": "markdown",
   "id": "13e87200",
   "metadata": {},
   "source": [
    "## Creating a 2 Detector"
   ]
  },
  {
   "cell_type": "code",
   "execution_count": 13,
   "id": "5f0235f9",
   "metadata": {},
   "outputs": [],
   "source": [
    "y_train = y_train.astype(np.int8) # Convert all string to integer\n",
    "y_test = y_test.astype(np.int8)\n",
    "y_train_2 = (y_train==2)\n",
    "y_test_2 = (y_test==2)"
   ]
  },
  {
   "cell_type": "code",
   "execution_count": 14,
   "id": "0467b294",
   "metadata": {},
   "outputs": [
    {
     "data": {
      "text/plain": [
       "array([1, 3, 5, ..., 0, 7, 5], dtype=int8)"
      ]
     },
     "execution_count": 14,
     "metadata": {},
     "output_type": "execute_result"
    }
   ],
   "source": [
    "y_train"
   ]
  },
  {
   "cell_type": "code",
   "execution_count": 15,
   "id": "5ccc3185",
   "metadata": {},
   "outputs": [],
   "source": [
    "from sklearn.linear_model import LogisticRegression"
   ]
  },
  {
   "cell_type": "code",
   "execution_count": 20,
   "id": "e3227bb9",
   "metadata": {},
   "outputs": [],
   "source": [
    "clf = LogisticRegression(tol = 0.1, solver='liblinear')"
   ]
  },
  {
   "cell_type": "code",
   "execution_count": 21,
   "id": "4eb73abd",
   "metadata": {},
   "outputs": [
    {
     "data": {
      "text/plain": [
       "LogisticRegression(solver='liblinear', tol=0.1)"
      ]
     },
     "execution_count": 21,
     "metadata": {},
     "output_type": "execute_result"
    }
   ],
   "source": [
    "clf.fit(x_train, y_train_2)"
   ]
  },
  {
   "cell_type": "code",
   "execution_count": 22,
   "id": "3c5f0723",
   "metadata": {},
   "outputs": [
    {
     "data": {
      "text/plain": [
       "array([ True])"
      ]
     },
     "execution_count": 22,
     "metadata": {},
     "output_type": "execute_result"
    }
   ],
   "source": [
    "clf.predict([some_digit])"
   ]
  },
  {
   "cell_type": "markdown",
   "id": "94a99560",
   "metadata": {},
   "source": [
    "## Cross Validation"
   ]
  },
  {
   "cell_type": "code",
   "execution_count": 24,
   "id": "6b6328a3",
   "metadata": {},
   "outputs": [],
   "source": [
    "from sklearn.model_selection import cross_val_score\n",
    "a = cross_val_score(clf, x_train, y_train_2, cv =3, scoring = \"accuracy\")"
   ]
  },
  {
   "cell_type": "code",
   "execution_count": 25,
   "id": "49286599",
   "metadata": {},
   "outputs": [
    {
     "data": {
      "text/plain": [
       "0.9777999999999999"
      ]
     },
     "execution_count": 25,
     "metadata": {},
     "output_type": "execute_result"
    }
   ],
   "source": [
    "a.mean()"
   ]
  },
  {
   "cell_type": "markdown",
   "id": "fa27a706",
   "metadata": {},
   "source": [
    "## Create a Classifier which will classify a digit as 'not 2'"
   ]
  },
  {
   "cell_type": "code",
   "execution_count": 26,
   "id": "6d3fd26b",
   "metadata": {},
   "outputs": [],
   "source": [
    "y_train0 = y_train.astype(np.int8) # Convert all string to integer\n",
    "y_test0 = y_test.astype(np.int8)\n",
    "y_train_0 = (y_train!=2)\n",
    "y_test_0 = (y_test!=2)"
   ]
  },
  {
   "cell_type": "code",
   "execution_count": 27,
   "id": "613c1e8a",
   "metadata": {},
   "outputs": [
    {
     "data": {
      "text/plain": [
       "array([ True,  True,  True, ...,  True,  True,  True])"
      ]
     },
     "execution_count": 27,
     "metadata": {},
     "output_type": "execute_result"
    }
   ],
   "source": [
    "y_train_0"
   ]
  },
  {
   "cell_type": "code",
   "execution_count": 28,
   "id": "e89e8cc9",
   "metadata": {},
   "outputs": [],
   "source": [
    "clf0 = LogisticRegression(tol = 0.1, solver='liblinear')"
   ]
  },
  {
   "cell_type": "code",
   "execution_count": 29,
   "id": "a495a045",
   "metadata": {},
   "outputs": [
    {
     "data": {
      "text/plain": [
       "LogisticRegression(solver='liblinear', tol=0.1)"
      ]
     },
     "execution_count": 29,
     "metadata": {},
     "output_type": "execute_result"
    }
   ],
   "source": [
    "clf0.fit(x_train, y_train_0)"
   ]
  },
  {
   "cell_type": "code",
   "execution_count": 100,
   "id": "2dfac8c6",
   "metadata": {},
   "outputs": [
    {
     "name": "stdout",
     "output_type": "stream",
     "text": [
      "2\n"
     ]
    }
   ],
   "source": [
    "import random\n",
    "index = random.randint(0,70000)\n",
    "b = x[index]\n",
    "if clf0.predict([b]) == 1:\n",
    " print(\" Not 2\")\n",
    "else :\n",
    " print(\"2\")"
   ]
  },
  {
   "cell_type": "code",
   "execution_count": 102,
   "id": "2cdd8ea7",
   "metadata": {},
   "outputs": [
    {
     "data": {
      "text/plain": [
       "(-0.5, 27.5, 27.5, -0.5)"
      ]
     },
     "execution_count": 102,
     "metadata": {},
     "output_type": "execute_result"
    },
    {
     "data": {
      "image/png": "[encoded data removed]",
      "text/plain": [
       "<Figure size 432x288 with 1 Axes>"
      ]
     },
     "metadata": {
      "needs_background": "light"
     },
     "output_type": "display_data"
    }
   ],
   "source": [
    "b = b.reshape(28,28)\n",
    "plt.imshow(b, cmap=matplotlib.cm.binary, interpolation = \"nearest\")\n",
    "plt.axis(\"off\") "
   ]
  },
  {
   "cell_type": "code",
   "execution_count": 104,
   "id": "4a7d9d04",
   "metadata": {},
   "outputs": [],
   "source": [
    "from sklearn.model_selection import cross_val_score\n",
    "c = cross_val_score(clf0, x_train, y_train_0, cv =3, scoring = \"accuracy\")"
   ]
  },
  {
   "cell_type": "code",
   "execution_count": 105,
   "id": "2b1747eb",
   "metadata": {},
   "outputs": [
    {
     "data": {
      "text/plain": [
       "0.9777999999999999"
      ]
     },
     "execution_count": 105,
     "metadata": {},
     "output_type": "execute_result"
    }
   ],
   "source": [
    "c.mean()"
   ]
  }
 ],
 "metadata": {
  "kernelspec": {
   "display_name": "Python 3 (ipykernel)",
   "language": "python",
   "name": "python3"
  },
  "language_info": {
   "codemirror_mode": {
    "name": "ipython",
    "version": 3
   },
   "file_extension": ".py",
   "mimetype": "text/x-python",
   "name": "python",
   "nbconvert_exporter": "python",
   "pygments_lexer": "ipython3",
   "version": "3.9.12"
  }
 },
 "nbformat": 4,
 "nbformat_minor": 5
}
